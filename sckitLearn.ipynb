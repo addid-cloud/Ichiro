{
 "cells": [
  {
   "cell_type": "code",
   "execution_count": 1,
   "metadata": {},
   "outputs": [],
   "source": [
    "import numpy as np\n",
    "import matplotlib.pyplot as plt\n",
    "from sklearn.linear_model import LinearRegression, Perceptron\n",
    "from sklearn.preprocessing import LabelEncoder\n",
    "from sklearn.metrics import accuracy_score\n",
    "import numpy.linalg as la \n",
    "import random"
   ]
  },
  {
   "cell_type": "code",
   "execution_count": null,
   "metadata": {},
   "outputs": [
    {
     "name": "stdout",
     "output_type": "stream",
     "text": [
      "prediksi nilai ujian belajar selama 7.5  =  89.63636363636363\n"
     ]
    },
    {
     "data": {
      "image/png": "[encoded data removed]",
      "text/plain": [
       "<Figure size 640x480 with 1 Axes>"
      ]
     },
     "metadata": {},
     "output_type": "display_data"
    },
    {
     "data": {
      "text/plain": [
       "31"
      ]
     },
     "execution_count": 17,
     "metadata": {},
     "output_type": "execute_result"
    }
   ],
   "source": [
    "# data x = lama belajar, y = hasil yang didapat\n",
    "x = np.array([1,2,3,4,5,6,7,8,9,10]).reshape(-1,1)\n",
    "y = np.array([50,55,80,85,70,75,90,95,98,98])\n",
    "# penggunaan model linear regresi\n",
    "model = LinearRegression()\n",
    "model.fit(x,y)\n",
    "# prediksi data\n",
    "jam = 7.5\n",
    "predicted_score = model.predict([[jam]])\n",
    "print(\"prediksi nilai ujian belajar selama\",jam, \" = \",predicted_score[0])\n",
    "# visualisasi data dan garis regresi\n",
    "plt.scatter(x,y,color=\"blue\",label=\"data asli\")\n",
    "plt.plot(x, model.predict(x), color='red', label=\"Garis Regresi\")\n",
    "plt.xlabel(\"jam belajar\")\n",
    "plt.ylabel(\"hasil belajar\")``\n",
    "plt.legend()\n",
    "plt.show()\n",
    "random.randint(10,31)\n"
   ]
  },
  {
   "cell_type": "code",
   "execution_count": 10,
   "metadata": {},
   "outputs": [
    {
     "name": "stdout",
     "output_type": "stream",
     "text": [
      "prediksi untuk and gate\n",
      "input: [0 0] => prediksi: 0\n",
      "input: [0 1] => prediksi: 0\n",
      "input: [1 0] => prediksi: 0\n",
      "input: [1 1] => prediksi: 1\n"
     ]
    }
   ],
   "source": [
    "x = np.array([[0,0],[0,1],[1,0],[1,1]])\n",
    "y = np.array([0,0,0,1])\n",
    "model = Perceptron()\n",
    "model.fit(x,y)\n",
    "predicted_score = model.predict(x)\n",
    "print(\"prediksi untuk and gate\")\n",
    "for i in range(len(x)):\n",
    "    print(f\"input: {x[i]} => prediksi: {predicted_score[i]}\")"
   ]
  },
  {
   "cell_type": "code",
   "execution_count": 13,
   "metadata": {},
   "outputs": [
    {
     "name": "stdout",
     "output_type": "stream",
     "text": [
      "akurasi model = 100.00%\n",
      "input : [0 1] => prediksi : 0\n",
      "input : [1 1] => prediksi : 1\n",
      "input : [1 0] => prediksi : 0\n",
      "input : [0 0] => prediksi : 0\n"
     ]
    }
   ],
   "source": [
    "accuracy =  accuracy_score(y,predicted_score)\n",
    "print(f\"akurasi model = {accuracy*100:.2f}%\")\n",
    "new_input = np.array([[0,1],[1,1],[1,0],[0,0]])\n",
    "new_predict = model.predict(new_input)\n",
    "for i in range(len(new_input)):\n",
    "    print(f\"input : {new_input[i]} => prediksi : {new_predict[i]}\")"
   ]
  },
  {
   "cell_type": "code",
   "execution_count": null,
   "metadata": {},
   "outputs": [
    {
     "name": "stdout",
     "output_type": "stream",
     "text": [
      "Prediksi Perceptron dengan Data String:\n",
      "Medan: tanah -> Prediksi Kendaraan: motor trail\n",
      "Medan: berbatu -> Prediksi Kendaraan: jeep\n",
      "Medan: tanah -> Prediksi Kendaraan: motor trail\n",
      "Medan: aspal -> Prediksi Kendaraan: mobil\n",
      "Medan: aspal -> Prediksi Kendaraan: mobil\n"
     ]
    }
   ],
   "source": [
    "medan_train = np.array([\"aspal\",\"tanah\",\"berbatu\"])\n",
    "kendaraan = np.array([\"mobil\",\"motor trail\",\"jeep\"])\n",
    "\n",
    "encode_medan = LabelEncoder()\n",
    "x_train = encode_medan.fit_transform(medan_train).reshape(-1,1)\n",
    "\n",
    "encode_kendaraan = LabelEncoder()\n",
    "y_train = encode_kendaraan.fit_transform(kendaraan)\n",
    "\n",
    "model = Perceptron(max_iter=1000)\n",
    "model.fit(x_train,y_train)\n",
    "\n",
    "medan_test = np.array([\"tanah\",\"berbatu\",\"tanah\",\"aspal\",\"aspal\"])\n",
    "y_test = np.array([\"mobil\",\"motor trail\",\"jeep\",\"motor trail\",\"mobil\"])\n",
    "\n",
    "X_test = encode_medan.transform(medan_test).reshape(-1, 1)\n",
    "y_test_encoded = encode_kendaraan.transform(y_test)\n",
    "prediction_encode = model.predict(X_test)\n",
    "predicted = encode_kendaraan.inverse_transform(prediction_encode)\n",
    "\n",
    "print(\"Prediksi Perceptron dengan Data String:\")\n",
    "for i in range(len(medan_test)):\n",
    "    print(f\"Medan: {medan_test[i]} -> Prediksi Kendaraan: {predicted[i]}\")"
   ]
  },
  {
   "cell_type": "code",
   "execution_count": null,
   "metadata": {},
   "outputs": [],
   "source": []
  }
 ],
 "metadata": {
  "kernelspec": {
   "display_name": "Python 3",
   "language": "python",
   "name": "python3"
  },
  "language_info": {
   "codemirror_mode": {
    "name": "ipython",
    "version": 3
   },
   "file_extension": ".py",
   "mimetype": "text/x-python",
   "name": "python",
   "nbconvert_exporter": "python",
   "pygments_lexer": "ipython3",
   "version": "3.12.4"
  }
 },
 "nbformat": 4,
 "nbformat_minor": 2
}
