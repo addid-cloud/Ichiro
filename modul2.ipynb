{
 "cells": [
  {
   "cell_type": "code",
   "execution_count": 1,
   "metadata": {},
   "outputs": [],
   "source": [
    "import cv2"
   ]
  },
  {
   "cell_type": "code",
   "execution_count": 5,
   "metadata": {},
   "outputs": [],
   "source": [
    "img = cv2.imread(\"resource/cat.jpg\")\n",
    "cv2.imshow(\"kucing ichiro\",img)\n",
    "cv2.waitKey(0)\n",
    "cv2.destroyAllWindows()"
   ]
  },
  {
   "cell_type": "code",
   "execution_count": 2,
   "metadata": {},
   "outputs": [
    {
     "name": "stdout",
     "output_type": "stream",
     "text": [
      "[1, 3, 4, 7, 8]\n"
     ]
    }
   ],
   "source": [
    "def selection_sort (arr):\n",
    "    for i in range (0,len(arr) - 1):\n",
    "        cur_min_idx = i\n",
    "        for j in range (i + 1, len(arr)):\n",
    "            if arr[j] < arr[cur_min_idx]:\n",
    "                cur_min_idx = j\n",
    "\n",
    "        arr[i], arr[cur_min_idx] = arr[cur_min_idx], arr[i]  #swap     \n",
    "\n",
    "        \n",
    "arr = [4,3,7,1,8]\n",
    "selection_sort (arr)\n",
    "print (arr)"
   ]
  }
 ],
 "metadata": {
  "kernelspec": {
   "display_name": "Python 3",
   "language": "python",
   "name": "python3"
  },
  "language_info": {
   "codemirror_mode": {
    "name": "ipython",
    "version": 3
   },
   "file_extension": ".py",
   "mimetype": "text/x-python",
   "name": "python",
   "nbconvert_exporter": "python",
   "pygments_lexer": "ipython3",
   "version": "3.12.4"
  }
 },
 "nbformat": 4,
 "nbformat_minor": 2
}
