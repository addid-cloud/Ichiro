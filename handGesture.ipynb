{
 "cells": [
  {
   "cell_type": "code",
   "execution_count": 2,
   "metadata": {},
   "outputs": [],
   "source": [
    "import cv2 as cv\n",
    "import mediapipe as mp"
   ]
  },
  {
   "cell_type": "code",
   "execution_count": 3,
   "metadata": {},
   "outputs": [],
   "source": [
    "mp_hands = mp.solutions.hands\n",
    "hands = mp_hands.Hands()\n",
    "mp_draw = mp.solutions.drawing_utils\n",
    "# fungsi untuk mendeteksi tangan dengan media pipe\n",
    "def detect_hand_gesture(image,hand):\n",
    "    imageRGB = cv.cvtColor(image,cv.COLOR_BGR2RGB)\n",
    "    res  = hand.process(imageRGB)\n",
    "    if res.multi_hand_landmarks:\n",
    "        for hand_landmarks in res.multi_hand_landmarks:\n",
    "            gesture = recognize_gesture(hand_landmarks)\n",
    "            mp_draw.draw_landmarks(image,hand_landmarks,mp_hands.HAND_CONNECTIONS)\n",
    "            cv.putText(image,gesture,(50,50),cv.FONT_HERSHEY_COMPLEX,1,(255,255,255),2,cv.LINE_AA)\n",
    "    return image\n",
    "\n",
    "def recognize_gesture(hand_landmarks):\n",
    "    # ambil posisi ujung jari\n",
    "    ujung_jempol = hand_landmarks.landmark[mp_hands.HandLandmark.THUMB_TIP]\n",
    "    ujung_telunjuk = hand_landmarks.landmark[mp_hands.HandLandmark.INDEX_FINGER_TIP]\n",
    "    ujung_tengah = hand_landmarks.landmark[mp_hands.HandLandmark.MIDDLE_FINGER_TIP]\n",
    "    ujung_manis = hand_landmarks.landmark[mp_hands.HandLandmark.RING_FINGER_TIP]\n",
    "    ujung_kelingking = hand_landmarks.landmark[mp_hands.HandLandmark.PINKY_TIP]\n",
    "\n",
    "    # jempol kang\n",
    "    if(\n",
    "        ujung_jempol.y < ujung_telunjuk.y and\n",
    "        ujung_jempol.y < ujung_tengah.y and\n",
    "        ujung_jempol.y < ujung_manis.y and\n",
    "        ujung_jempol.y < ujung_kelingking.y\n",
    "    ): return \"jempol\"\n",
    "    if(\n",
    "        ujung_tengah.y < ujung_manis.y and\n",
    "        ujung_tengah.y < ujung_jempol.y and\n",
    "        ujung_tengah.y < ujung_kelingking.y and\n",
    "        ujung_tengah.y < ujung_telunjuk.y \n",
    "    ) : return \"fucek samid\"\n",
    "    return \"gesture tidak diketahui\"\n",
    "\n",
    "\n",
    "frameWidth = 320\n",
    "frameHeight = 720\n",
    "cap = cv.VideoCapture(0)\n",
    "cap.set(cv.CAP_PROP_FRAME_HEIGHT,frameHeight)\n",
    "cap.set(cv.CAP_PROP_FRAME_WIDTH,frameWidth)\n",
    "if not cap.isOpened():\n",
    "    print(\"tidak dapat membuka kamera\")\n",
    "while(cap.isOpened):\n",
    "    ret,frame = cap.read()\n",
    "    if not ret:\n",
    "        print(\"gagal membuka kamera\")\n",
    "        break;\n",
    "    frame = detect_hand_gesture(frame,hands)\n",
    "    cv.imshow(\"hand gasture\", frame)\n",
    "    if cv.waitKey(1) & 0xff ==ord('q'):\n",
    "        break\n",
    "cap.release()\n",
    "cv.destroyAllWindows()"
   ]
  }
 ],
 "metadata": {
  "kernelspec": {
   "display_name": "Python 3",
   "language": "python",
   "name": "python3"
  },
  "language_info": {
   "codemirror_mode": {
    "name": "ipython",
    "version": 3
   },
   "file_extension": ".py",
   "mimetype": "text/x-python",
   "name": "python",
   "nbconvert_exporter": "python",
   "pygments_lexer": "ipython3",
   "version": "3.12.4"
  }
 },
 "nbformat": 4,
 "nbformat_minor": 2
}
