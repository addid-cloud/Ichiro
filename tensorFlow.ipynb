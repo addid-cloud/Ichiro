{
 "cells": [
  {
   "cell_type": "markdown",
   "metadata": {},
   "source": [
    "\n",
    "## 🎯 **Roadmap Belajar TensorFlow**  \n",
    "\n",
    "### 🔹 **1. Persiapan Awal**  \n",
    "✅ **Pemrograman Python**  \n",
    "- Variabel, tipe data, kontrol alur  \n",
    "- Fungsi & OOP di Python  \n",
    "- List comprehension & lambda function  \n",
    "\n",
    "✅ **Dasar-dasar Matematika untuk AI**  \n",
    "- Aljabar linear (matriks & vektor)  \n",
    "- Kalkulus dasar (turunan & gradien)  \n",
    "- Probabilitas & statistik  \n",
    "\n",
    "✅ **Pemrograman dengan NumPy & Pandas**  \n",
    "- Operasi array dengan NumPy  \n",
    "- Manipulasi dataset dengan Pandas  \n",
    "\n",
    "---\n",
    "\n",
    "### 🔹 **2. Memulai dengan TensorFlow**  \n",
    "✅ **Pengenalan TensorFlow**  \n",
    "- Instalasi TensorFlow  \n",
    "- Konsep dasar: Tensor, operasi, sesi (Eager Execution)  \n",
    "- Struktur model: Sequential vs Functional API  \n",
    "\n",
    "✅ **Manipulasi Data dengan TensorFlow**  \n",
    "- Menggunakan `tf.data` untuk loading dataset  \n",
    "- Augmentasi data dengan `tf.image`  \n",
    "- Normalisasi dan pre-processing data  \n",
    "\n",
    "✅ **Implementasi Model Sederhana**  \n",
    "- Membuat model regresi linear  \n",
    "- Implementasi model klasifikasi dasar  \n",
    "\n",
    "---\n",
    "\n",
    "### 🔹 **3. Pemodelan dengan TensorFlow & Keras**  \n",
    "✅ **Membangun Model dengan Keras API**  \n",
    "- Membuat model Sequential  \n",
    "- Menggunakan layer seperti `Dense`, `Dropout`, `BatchNormalization`  \n",
    "- Optimizer & loss function  \n",
    "\n",
    "✅ **Pelatihan dan Evaluasi Model**  \n",
    "- Backpropagation & optimisasi  \n",
    "- Visualisasi dengan TensorBoard  \n",
    "- Evaluasi model dengan `accuracy`, `loss`, dll.  \n",
    "\n",
    "✅ **Handling Overfitting & Hyperparameter Tuning**  \n",
    "- Regularisasi: Dropout, L1/L2  \n",
    "- Hyperparameter tuning dengan Keras Tuner  \n",
    "\n",
    "---\n",
    "\n",
    "### 🔹 **4. Computer Vision dengan TensorFlow**  \n",
    "✅ **Menggunakan CNN untuk Image Classification**  \n",
    "- Convolutional & Pooling layer  \n",
    "- Transfer Learning dengan model pre-trained (MobileNet, ResNet)  \n",
    "- Object Detection dengan TensorFlow Hub  \n",
    "\n",
    "✅ **Image Segmentation & GANs**  \n",
    "- Implementasi U-Net untuk segmentasi  \n",
    "- Generative Adversarial Networks (GANs)  \n",
    "\n",
    "---\n",
    "\n",
    "### 🔹 **5. Natural Language Processing (NLP) dengan TensorFlow**  \n",
    "✅ **Pemrosesan Teks & Word Embeddings**  \n",
    "- Tokenisasi & sequence padding  \n",
    "- Word2Vec & embeddings dengan `tf.keras.layers.Embedding`  \n",
    "\n",
    "✅ **Membangun Model NLP dengan RNN & Transformer**  \n",
    "- Implementasi LSTM & GRU  \n",
    "- Membangun Transformer (BERT, GPT, dll.) dengan TensorFlow  \n",
    "\n",
    "---\n",
    "\n",
    "### 🔹 **6. Model Deployment & Production**  \n",
    "✅ **Menggunakan TensorFlow Serving**  \n",
    "- Menyimpan & memuat model TensorFlow  \n",
    "- Deploy model sebagai REST API  \n",
    "\n",
    "✅ **Optimasi Model untuk Mobile & Web**  \n",
    "- Konversi model ke TensorFlow Lite  \n",
    "- Menggunakan TensorFlow.js untuk aplikasi web  \n",
    "\n",
    "✅ **MLOps dengan TensorFlow Extended (TFX)**  \n",
    "- Automasi pipeline machine learning  \n",
    "- Model monitoring & deployment skala besar  \n",
    "\n",
    "---\n",
    "\n",
    "## 🚀 **Sumber Belajar**  \n",
    "🔹 Dokumentasi TensorFlow: [https://www.tensorflow.org](https://www.tensorflow.org)  \n",
    "🔹 Google Colab untuk latihan interaktif  \n",
    "🔹 Kaggle & TensorFlow Hub untuk dataset & model pre-trained  \n",
    "\n",
    "---\n",
    "\n",
    "Roadmap ini bisa disesuaikan dengan minat dan kebutuhanmu. Kamu lebih tertarik ke **Computer Vision** atau **NLP**? 😊"
   ]
  },
  {
   "cell_type": "code",
   "execution_count": 6,
   "metadata": {},
   "outputs": [],
   "source": [
    "import tensorflow as tf\n",
    "from tensorflow.keras import layers, Model, Input"
   ]
  },
  {
   "cell_type": "code",
   "execution_count": 24,
   "metadata": {},
   "outputs": [
    {
     "name": "stdout",
     "output_type": "stream",
     "text": [
      "tensor flow version = 2.18.0\n",
      "nilai a: 9\n",
      "nilai b: 6\n",
      "nilai c: 15\n",
      "matrix =\n",
      "[[1 2]\n",
      " [3 4]]\n",
      "matrix =\n",
      "[1 2 3 4 5]\n",
      "nilai awal =  100\n",
      "nilai yang sudah diubah = 50\n",
      "[[19 22]\n",
      " [43 50]]\n"
     ]
    }
   ],
   "source": [
    "print(\"tensor flow version = \" + tf.__version__)\n",
    "# membuat tensor sederhana\n",
    "a  = tf.constant(9) #tensor saklar\n",
    "b  = tf.constant(6)\n",
    "c = a+b #operasi tensor jumlah\n",
    "print(f\"nilai a: {a}\")\n",
    "print(f\"nilai b: {b}\")\n",
    "print(f\"nilai c: {c}\")\n",
    "matrix = tf.constant([[1,2],[3,4]])\n",
    "print(\"matrix =\")\n",
    "print(matrix.numpy())\n",
    "matrix_1D = tf.constant([1,2,3,4,5])\n",
    "print(\"matrix =\")\n",
    "print(matrix_1D.numpy())\n",
    "var = tf.Variable(100)\n",
    "print(\"nilai awal = \", var.numpy())\n",
    "var.assign(50)\n",
    "print(\"nilai yang sudah diubah =\", var.numpy())\n",
    "A = tf.constant([[1, 2], [3, 4]])\n",
    "B = tf.constant([[5, 6], [7, 8]])\n",
    "\n",
    "hasil_perkalian = tf.matmul(A, B) \n",
    "print(hasil_perkalian.numpy())"
   ]
  },
  {
   "cell_type": "code",
   "execution_count": null,
   "metadata": {},
   "outputs": [
    {
     "name": "stderr",
     "output_type": "stream",
     "text": [
      "c:\\Users\\addid\\AppData\\Local\\Programs\\Python\\Python312\\Lib\\site-packages\\keras\\src\\layers\\core\\dense.py:87: UserWarning: Do not pass an `input_shape`/`input_dim` argument to a layer. When using Sequential models, prefer using an `Input(shape)` object as the first layer in the model instead.\n",
      "  super().__init__(activity_regularizer=activity_regularizer, **kwargs)\n"
     ]
    },
    {
     "data": {
      "text/html": [
       "<pre style=\"white-space:pre;overflow-x:auto;line-height:normal;font-family:Menlo,'DejaVu Sans Mono',consolas,'Courier New',monospace\"><span style=\"font-weight: bold\">Model: \"sequential_1\"</span>\n",
       "</pre>\n"
      ],
      "text/plain": [
       "\u001b[1mModel: \"sequential_1\"\u001b[0m\n"
      ]
     },
     "metadata": {},
     "output_type": "display_data"
    },
    {
     "data": {
      "text/html": [
       "<pre style=\"white-space:pre;overflow-x:auto;line-height:normal;font-family:Menlo,'DejaVu Sans Mono',consolas,'Courier New',monospace\">┏━━━━━━━━━━━━━━━━━━━━━━━━━━━━━━━━━┳━━━━━━━━━━━━━━━━━━━━━━━━┳━━━━━━━━━━━━━━━┓\n",
       "┃<span style=\"font-weight: bold\"> Layer (type)                    </span>┃<span style=\"font-weight: bold\"> Output Shape           </span>┃<span style=\"font-weight: bold\">       Param # </span>┃\n",
       "┡━━━━━━━━━━━━━━━━━━━━━━━━━━━━━━━━━╇━━━━━━━━━━━━━━━━━━━━━━━━╇━━━━━━━━━━━━━━━┩\n",
       "│ dense_4 (<span style=\"color: #0087ff; text-decoration-color: #0087ff\">Dense</span>)                 │ (<span style=\"color: #00d7ff; text-decoration-color: #00d7ff\">None</span>, <span style=\"color: #00af00; text-decoration-color: #00af00\">64</span>)             │           <span style=\"color: #00af00; text-decoration-color: #00af00\">704</span> │\n",
       "├─────────────────────────────────┼────────────────────────┼───────────────┤\n",
       "│ dense_5 (<span style=\"color: #0087ff; text-decoration-color: #0087ff\">Dense</span>)                 │ (<span style=\"color: #00d7ff; text-decoration-color: #00d7ff\">None</span>, <span style=\"color: #00af00; text-decoration-color: #00af00\">32</span>)             │         <span style=\"color: #00af00; text-decoration-color: #00af00\">2,080</span> │\n",
       "├─────────────────────────────────┼────────────────────────┼───────────────┤\n",
       "│ dense_6 (<span style=\"color: #0087ff; text-decoration-color: #0087ff\">Dense</span>)                 │ (<span style=\"color: #00d7ff; text-decoration-color: #00d7ff\">None</span>, <span style=\"color: #00af00; text-decoration-color: #00af00\">1</span>)              │            <span style=\"color: #00af00; text-decoration-color: #00af00\">33</span> │\n",
       "└─────────────────────────────────┴────────────────────────┴───────────────┘\n",
       "</pre>\n"
      ],
      "text/plain": [
       "┏━━━━━━━━━━━━━━━━━━━━━━━━━━━━━━━━━┳━━━━━━━━━━━━━━━━━━━━━━━━┳━━━━━━━━━━━━━━━┓\n",
       "┃\u001b[1m \u001b[0m\u001b[1mLayer (type)                   \u001b[0m\u001b[1m \u001b[0m┃\u001b[1m \u001b[0m\u001b[1mOutput Shape          \u001b[0m\u001b[1m \u001b[0m┃\u001b[1m \u001b[0m\u001b[1m      Param #\u001b[0m\u001b[1m \u001b[0m┃\n",
       "┡━━━━━━━━━━━━━━━━━━━━━━━━━━━━━━━━━╇━━━━━━━━━━━━━━━━━━━━━━━━╇━━━━━━━━━━━━━━━┩\n",
       "│ dense_4 (\u001b[38;5;33mDense\u001b[0m)                 │ (\u001b[38;5;45mNone\u001b[0m, \u001b[38;5;34m64\u001b[0m)             │           \u001b[38;5;34m704\u001b[0m │\n",
       "├─────────────────────────────────┼────────────────────────┼───────────────┤\n",
       "│ dense_5 (\u001b[38;5;33mDense\u001b[0m)                 │ (\u001b[38;5;45mNone\u001b[0m, \u001b[38;5;34m32\u001b[0m)             │         \u001b[38;5;34m2,080\u001b[0m │\n",
       "├─────────────────────────────────┼────────────────────────┼───────────────┤\n",
       "│ dense_6 (\u001b[38;5;33mDense\u001b[0m)                 │ (\u001b[38;5;45mNone\u001b[0m, \u001b[38;5;34m1\u001b[0m)              │            \u001b[38;5;34m33\u001b[0m │\n",
       "└─────────────────────────────────┴────────────────────────┴───────────────┘\n"
      ]
     },
     "metadata": {},
     "output_type": "display_data"
    },
    {
     "data": {
      "text/html": [
       "<pre style=\"white-space:pre;overflow-x:auto;line-height:normal;font-family:Menlo,'DejaVu Sans Mono',consolas,'Courier New',monospace\"><span style=\"font-weight: bold\"> Total params: </span><span style=\"color: #00af00; text-decoration-color: #00af00\">2,817</span> (11.00 KB)\n",
       "</pre>\n"
      ],
      "text/plain": [
       "\u001b[1m Total params: \u001b[0m\u001b[38;5;34m2,817\u001b[0m (11.00 KB)\n"
      ]
     },
     "metadata": {},
     "output_type": "display_data"
    },
    {
     "data": {
      "text/html": [
       "<pre style=\"white-space:pre;overflow-x:auto;line-height:normal;font-family:Menlo,'DejaVu Sans Mono',consolas,'Courier New',monospace\"><span style=\"font-weight: bold\"> Trainable params: </span><span style=\"color: #00af00; text-decoration-color: #00af00\">2,817</span> (11.00 KB)\n",
       "</pre>\n"
      ],
      "text/plain": [
       "\u001b[1m Trainable params: \u001b[0m\u001b[38;5;34m2,817\u001b[0m (11.00 KB)\n"
      ]
     },
     "metadata": {},
     "output_type": "display_data"
    },
    {
     "data": {
      "text/html": [
       "<pre style=\"white-space:pre;overflow-x:auto;line-height:normal;font-family:Menlo,'DejaVu Sans Mono',consolas,'Courier New',monospace\"><span style=\"font-weight: bold\"> Non-trainable params: </span><span style=\"color: #00af00; text-decoration-color: #00af00\">0</span> (0.00 B)\n",
       "</pre>\n"
      ],
      "text/plain": [
       "\u001b[1m Non-trainable params: \u001b[0m\u001b[38;5;34m0\u001b[0m (0.00 B)\n"
      ]
     },
     "metadata": {},
     "output_type": "display_data"
    }
   ],
   "source": [
    "# sequintal api\n",
    "model = tf.keras.Sequential([\n",
    "    layers.Dense(64, activation='relu',input_shape =(10,)),\n",
    "    layers.Dense(32,activation='relu'), # hidden layer\n",
    "    layers.Dense(1,activation='sigmoid')# output layer (misal untuk klasifikasi biner)\n",
    "])\n",
    "model.summary()"
   ]
  },
  {
   "cell_type": "code",
   "execution_count": 10,
   "metadata": {},
   "outputs": [
    {
     "data": {
      "text/html": [
       "<pre style=\"white-space:pre;overflow-x:auto;line-height:normal;font-family:Menlo,'DejaVu Sans Mono',consolas,'Courier New',monospace\"><span style=\"font-weight: bold\">Model: \"functional_2\"</span>\n",
       "</pre>\n"
      ],
      "text/plain": [
       "\u001b[1mModel: \"functional_2\"\u001b[0m\n"
      ]
     },
     "metadata": {},
     "output_type": "display_data"
    },
    {
     "data": {
      "text/html": [
       "<pre style=\"white-space:pre;overflow-x:auto;line-height:normal;font-family:Menlo,'DejaVu Sans Mono',consolas,'Courier New',monospace\">┏━━━━━━━━━━━━━━━━━━━━━━━━━━━━━━━━━┳━━━━━━━━━━━━━━━━━━━━━━━━┳━━━━━━━━━━━━━━━┓\n",
       "┃<span style=\"font-weight: bold\"> Layer (type)                    </span>┃<span style=\"font-weight: bold\"> Output Shape           </span>┃<span style=\"font-weight: bold\">       Param # </span>┃\n",
       "┡━━━━━━━━━━━━━━━━━━━━━━━━━━━━━━━━━╇━━━━━━━━━━━━━━━━━━━━━━━━╇━━━━━━━━━━━━━━━┩\n",
       "│ input_layer_5 (<span style=\"color: #0087ff; text-decoration-color: #0087ff\">InputLayer</span>)      │ (<span style=\"color: #00d7ff; text-decoration-color: #00d7ff\">None</span>, <span style=\"color: #00af00; text-decoration-color: #00af00\">10</span>)             │             <span style=\"color: #00af00; text-decoration-color: #00af00\">0</span> │\n",
       "├─────────────────────────────────┼────────────────────────┼───────────────┤\n",
       "│ dense_16 (<span style=\"color: #0087ff; text-decoration-color: #0087ff\">Dense</span>)                │ (<span style=\"color: #00d7ff; text-decoration-color: #00d7ff\">None</span>, <span style=\"color: #00af00; text-decoration-color: #00af00\">64</span>)             │           <span style=\"color: #00af00; text-decoration-color: #00af00\">704</span> │\n",
       "├─────────────────────────────────┼────────────────────────┼───────────────┤\n",
       "│ dense_17 (<span style=\"color: #0087ff; text-decoration-color: #0087ff\">Dense</span>)                │ (<span style=\"color: #00d7ff; text-decoration-color: #00d7ff\">None</span>, <span style=\"color: #00af00; text-decoration-color: #00af00\">32</span>)             │         <span style=\"color: #00af00; text-decoration-color: #00af00\">2,080</span> │\n",
       "├─────────────────────────────────┼────────────────────────┼───────────────┤\n",
       "│ dense_18 (<span style=\"color: #0087ff; text-decoration-color: #0087ff\">Dense</span>)                │ (<span style=\"color: #00d7ff; text-decoration-color: #00d7ff\">None</span>, <span style=\"color: #00af00; text-decoration-color: #00af00\">1</span>)              │            <span style=\"color: #00af00; text-decoration-color: #00af00\">33</span> │\n",
       "└─────────────────────────────────┴────────────────────────┴───────────────┘\n",
       "</pre>\n"
      ],
      "text/plain": [
       "┏━━━━━━━━━━━━━━━━━━━━━━━━━━━━━━━━━┳━━━━━━━━━━━━━━━━━━━━━━━━┳━━━━━━━━━━━━━━━┓\n",
       "┃\u001b[1m \u001b[0m\u001b[1mLayer (type)                   \u001b[0m\u001b[1m \u001b[0m┃\u001b[1m \u001b[0m\u001b[1mOutput Shape          \u001b[0m\u001b[1m \u001b[0m┃\u001b[1m \u001b[0m\u001b[1m      Param #\u001b[0m\u001b[1m \u001b[0m┃\n",
       "┡━━━━━━━━━━━━━━━━━━━━━━━━━━━━━━━━━╇━━━━━━━━━━━━━━━━━━━━━━━━╇━━━━━━━━━━━━━━━┩\n",
       "│ input_layer_5 (\u001b[38;5;33mInputLayer\u001b[0m)      │ (\u001b[38;5;45mNone\u001b[0m, \u001b[38;5;34m10\u001b[0m)             │             \u001b[38;5;34m0\u001b[0m │\n",
       "├─────────────────────────────────┼────────────────────────┼───────────────┤\n",
       "│ dense_16 (\u001b[38;5;33mDense\u001b[0m)                │ (\u001b[38;5;45mNone\u001b[0m, \u001b[38;5;34m64\u001b[0m)             │           \u001b[38;5;34m704\u001b[0m │\n",
       "├─────────────────────────────────┼────────────────────────┼───────────────┤\n",
       "│ dense_17 (\u001b[38;5;33mDense\u001b[0m)                │ (\u001b[38;5;45mNone\u001b[0m, \u001b[38;5;34m32\u001b[0m)             │         \u001b[38;5;34m2,080\u001b[0m │\n",
       "├─────────────────────────────────┼────────────────────────┼───────────────┤\n",
       "│ dense_18 (\u001b[38;5;33mDense\u001b[0m)                │ (\u001b[38;5;45mNone\u001b[0m, \u001b[38;5;34m1\u001b[0m)              │            \u001b[38;5;34m33\u001b[0m │\n",
       "└─────────────────────────────────┴────────────────────────┴───────────────┘\n"
      ]
     },
     "metadata": {},
     "output_type": "display_data"
    },
    {
     "data": {
      "text/html": [
       "<pre style=\"white-space:pre;overflow-x:auto;line-height:normal;font-family:Menlo,'DejaVu Sans Mono',consolas,'Courier New',monospace\"><span style=\"font-weight: bold\"> Total params: </span><span style=\"color: #00af00; text-decoration-color: #00af00\">2,817</span> (11.00 KB)\n",
       "</pre>\n"
      ],
      "text/plain": [
       "\u001b[1m Total params: \u001b[0m\u001b[38;5;34m2,817\u001b[0m (11.00 KB)\n"
      ]
     },
     "metadata": {},
     "output_type": "display_data"
    },
    {
     "data": {
      "text/html": [
       "<pre style=\"white-space:pre;overflow-x:auto;line-height:normal;font-family:Menlo,'DejaVu Sans Mono',consolas,'Courier New',monospace\"><span style=\"font-weight: bold\"> Trainable params: </span><span style=\"color: #00af00; text-decoration-color: #00af00\">2,817</span> (11.00 KB)\n",
       "</pre>\n"
      ],
      "text/plain": [
       "\u001b[1m Trainable params: \u001b[0m\u001b[38;5;34m2,817\u001b[0m (11.00 KB)\n"
      ]
     },
     "metadata": {},
     "output_type": "display_data"
    },
    {
     "data": {
      "text/html": [
       "<pre style=\"white-space:pre;overflow-x:auto;line-height:normal;font-family:Menlo,'DejaVu Sans Mono',consolas,'Courier New',monospace\"><span style=\"font-weight: bold\"> Non-trainable params: </span><span style=\"color: #00af00; text-decoration-color: #00af00\">0</span> (0.00 B)\n",
       "</pre>\n"
      ],
      "text/plain": [
       "\u001b[1m Non-trainable params: \u001b[0m\u001b[38;5;34m0\u001b[0m (0.00 B)\n"
      ]
     },
     "metadata": {},
     "output_type": "display_data"
    }
   ],
   "source": [
    "# functional api\n",
    "# definisi input\n",
    "inputs = Input(shape=(10,))\n",
    "# Definisi layer\n",
    "x = layers.Dense(64,activation='relu')(inputs)\n",
    "x = layers.Dense(32,activation='relu')(x)\n",
    "outputs = layers.Dense(1,activation='sigmoid')(x)\n",
    "model = Model(inputs=inputs, outputs=outputs)\n",
    "model.summary()"
   ]
  },
  {
   "cell_type": "markdown",
   "metadata": {},
   "source": [
    "1️⃣Input Layer → layers.Dense(128, activation='relu', input_shape=(10,))\n",
    "Dense(128, activation='relu') → Layer ini memiliki 128 neuron.\n",
    "input_shape=(10,) → Model menerima data dengan 10 fitur sebagai input.\n",
    "Contohnya: Jika dataset berisi informasi tentang pasien dengan 10 variabel (seperti umur, tekanan darah, kolesterol, dll.), maka input memiliki 10 fitur.\n",
    "activation='relu' → Fungsi aktivasi ReLU (Rectified Linear Unit) digunakan agar model dapat menangkap pola lebih baik.\n",
    "💡 Apa yang Terjadi di Sini?\n",
    "Input masuk ke 128 neuron.\n",
    "Setiap neuron menghitung nilai output berdasarkan bobot (w) dan bias (b), lalu menerapkan ReLU.\n",
    "ReLU(x) = max(0, x) (nilai negatif jadi nol, nilai positif tetap).\n",
    "\n",
    "2️⃣ Hidden Layer → layers.Dense(64, activation='relu')\n",
    "Dense(64, activation='relu') → Layer ini memiliki 64 neuron.\n",
    "Kenapa masih pakai activation='relu'?\n",
    "Karena ReLU menghindari masalah vanishing gradient, sehingga model bisa belajar lebih cepat.\n",
    "Hidden layer ini bertugas untuk menangkap pola lebih kompleks dari data.\n",
    "💡 Apa yang Terjadi di Sini?\n",
    "\n",
    "Data dari layer sebelumnya masuk ke 64 neuron.\n",
    "Setiap neuron menerima input, mengalikan dengan bobot, menambahkan bias, lalu menerapkan ReLU.\n",
    "Informasi yang lebih bermakna diteruskan ke layer berikutnya.\n",
    "\n",
    "3️⃣ Output Layer → layers.Dense(1, activation='sigmoid')\n",
    "Dense(1, activation='sigmoid') → Layer ini memiliki 1 neuron karena hanya ada satu output.\n",
    "Kenapa pakai activation='sigmoid'?\n",
    "Karena kita ingin model melakukan klasifikasi biner (dua kelas: 0 atau 1).\n",
    "Fungsi sigmoid mengubah output menjadi nilai antara 0 dan 1 (probabilitas).\n",
    "\n",
    " \n",
    "💡 Apa yang Terjadi di Sini?\n",
    "\n",
    "Setelah data diproses oleh hidden layer, neuron output mengambil informasi terakhir.\n",
    "Fungsi sigmoid memastikan nilai output berada di rentang 0 sampai 1.\n",
    "Hasil ini bisa diinterpretasikan sebagai probabilitas dari kelas 1 (misalnya \"positif\" atau \"berhasil\").\n",
    "\n"
   ]
  },
  {
   "cell_type": "markdown",
   "metadata": {},
   "source": []
  }
 ],
 "metadata": {
  "kernelspec": {
   "display_name": "Python 3",
   "language": "python",
   "name": "python3"
  },
  "language_info": {
   "codemirror_mode": {
    "name": "ipython",
    "version": 3
   },
   "file_extension": ".py",
   "mimetype": "text/x-python",
   "name": "python",
   "nbconvert_exporter": "python",
   "pygments_lexer": "ipython3",
   "version": "3.12.4"
  }
 },
 "nbformat": 4,
 "nbformat_minor": 2
}
