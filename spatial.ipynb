{
 "cells": [
  {
   "cell_type": "code",
   "execution_count": 5,
   "id": "d7d72dc9",
   "metadata": {},
   "outputs": [],
   "source": [
    "import open3d as o3d\n",
    "import numpy as np\n",
    "import matplotlib.pyplot as plt\n"
   ]
  },
  {
   "cell_type": "code",
   "execution_count": 23,
   "id": "4d1e0c38",
   "metadata": {},
   "outputs": [],
   "source": [
    "pcd = o3d.io.read_point_cloud(\"output.ply\")\n",
    "o3d.visualization.draw_geometries([pcd])\n"
   ]
  },
  {
   "cell_type": "code",
   "execution_count": 8,
   "id": "0cdba8ee",
   "metadata": {},
   "outputs": [
    {
     "name": "stdout",
     "output_type": "stream",
     "text": [
      "jumlah titik: 35947\n",
      "contoh 5 titik pertama: [[-0.0378297   0.12794     0.00447467]\n",
      " [-0.0447794   0.128887    0.00190497]\n",
      " [-0.0680095   0.151244    0.0371953 ]\n",
      " [-0.00228741  0.13015     0.0232201 ]\n",
      " [-0.0226054   0.126675    0.00715587]]\n"
     ]
    }
   ],
   "source": [
    "points = np.asarray(pcd.points)\n",
    "print(\"jumlah titik:\", len(points))\n",
    "print(\"contoh 5 titik pertama:\", points[:5])"
   ]
  },
  {
   "cell_type": "code",
   "execution_count": 9,
   "id": "863ae4d1",
   "metadata": {},
   "outputs": [
    {
     "name": "stdout",
     "output_type": "stream",
     "text": [
      "Tinggi objek: 0.121 satuan (unit koordinat z)\n"
     ]
    }
   ],
   "source": [
    "z_coords = points[:, 2]\n",
    "min_z = np.min(z_coords)\n",
    "max_z = np.max(z_coords)\n",
    "height = max_z - min_z\n",
    "\n",
    "print(f\"Tinggi objek: {height:.3f} satuan (unit koordinat z)\")\n"
   ]
  },
  {
   "cell_type": "code",
   "execution_count": 22,
   "id": "4165301d",
   "metadata": {},
   "outputs": [
    {
     "data": {
      "text/plain": [
       "True"
      ]
     },
     "execution_count": 22,
     "metadata": {},
     "output_type": "execute_result"
    }
   ],
   "source": [
    "import open3d as o3d\n",
    "import numpy as np\n",
    "from PIL import Image\n",
    "\n",
    "# Load RGB image pakai PIL\n",
    "rgb_img = Image.open(\"joy.jpg\").convert(\"L\")  # convert to grayscale\n",
    "depth_np = np.array(rgb_img)\n",
    "\n",
    "# Convert to Open3D depth image\n",
    "depth_o3d = o3d.geometry.Image(depth_np)\n",
    "\n",
    "height, width = depth_np.shape\n",
    "\n",
    "# Dummy intrinsics\n",
    "intrinsic = o3d.camera.PinholeCameraIntrinsic(\n",
    "    width, height,\n",
    "    fx=525.0, fy=525.0, cx=width / 2, cy=height / 2\n",
    ")\n",
    "\n",
    "# Create a dummy RGB image by stacking the grayscale depth image into three channels\n",
    "dummy_color_image = np.stack((depth_np, depth_np, depth_np), axis=-1)\n",
    "\n",
    "# Buat RGBD dari grayscale sebagai depth\n",
    "rgbd = o3d.geometry.RGBDImage.create_from_color_and_depth(\n",
    "    color=o3d.geometry.Image(dummy_color_image),  # Dummy RGB image\n",
    "    depth=depth_o3d,\n",
    "    depth_scale=1.0,  # Adjust depth scale to match the range of depth values\n",
    "    convert_rgb_to_intensity=False\n",
    ")\n",
    "\n",
    "# Konversi ke point cloud\n",
    "pcd = o3d.geometry.PointCloud.create_from_rgbd_image(\n",
    "    rgbd, intrinsic, extrinsic=np.eye(4)\n",
    ")\n",
    "\n",
    "# Simpan sebagai PLY\n",
    "o3d.io.write_point_cloud(\"joy_output.ply\", pcd)\n"
   ]
  }
 ],
 "metadata": {
  "kernelspec": {
   "display_name": "Python 3",
   "language": "python",
   "name": "python3"
  },
  "language_info": {
   "codemirror_mode": {
    "name": "ipython",
    "version": 3
   },
   "file_extension": ".py",
   "mimetype": "text/x-python",
   "name": "python",
   "nbconvert_exporter": "python",
   "pygments_lexer": "ipython3",
   "version": "3.12.4"
  }
 },
 "nbformat": 4,
 "nbformat_minor": 5
}
